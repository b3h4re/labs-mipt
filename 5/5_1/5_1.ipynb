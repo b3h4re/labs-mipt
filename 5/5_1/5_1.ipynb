{
 "cells": [
  {
   "cell_type": "code",
   "execution_count": 1,
   "metadata": {},
   "outputs": [],
   "source": [
    "import pandas as pd\n",
    "import numpy as np\n",
    "import matplotlib.pyplot as plt\n",
    "from scipy.optimize import curve_fit\n",
    "import sympy as sy"
   ]
  },
  {
   "cell_type": "code",
   "execution_count": 2,
   "metadata": {},
   "outputs": [],
   "source": [
    "sy.init_printing()"
   ]
  },
  {
   "cell_type": "markdown",
   "metadata": {},
   "source": [
    "# Вспомогательные функции"
   ]
  },
  {
   "cell_type": "code",
   "execution_count": 20,
   "metadata": {},
   "outputs": [],
   "source": [
    "def linear_func(x, k):\n",
    "    return k*x\n",
    "\n",
    "class linear_func_print:\n",
    "    def __init__(self, y=\"y\", x=\"x\"):\n",
    "        self.y = y\n",
    "        self.x = x\n",
    "\n",
    "\n",
    "    def get(self, k, b = None, prec = 3):\n",
    "        form = \"{0:0.\" + str(prec) + \"f}\"\n",
    "        return rf\"${self.y} = {form.format(k)} \\cdot {self.x}\" + (fr\" + {form.format(b)}\" if b is not None else \"$\")"
   ]
  },
  {
   "cell_type": "code",
   "execution_count": 25,
   "metadata": {},
   "outputs": [],
   "source": [
    "def plot(x, y, function=linear_func, function_tamplate=None, xerror=None, yerror=None, ejects=None, xlabel=\"\", ylabel=\"\", figsize=(12, 6), title=\"\",\n",
    "         dots_legend=\"\", approx_legend=\"\", name=\"graph\", precision_print=3):\n",
    "    '''\n",
    "    Строит график и аппроксимирует его функцией\n",
    "\n",
    "\n",
    "    x: массив иксов\n",
    "\n",
    "    y: массив игриков\n",
    "\n",
    "    function: функция, которой аппроксимируем, если передать None, то не аппроксимируем\n",
    "\n",
    "    xerror: массив погрешностей иксов\n",
    "\n",
    "    yerror: массив погрешностей игриков\n",
    "\n",
    "    ejects: список индексов точек, которые считаем выбросами (их выбрасываем)\n",
    "\n",
    "    xlabel: название оси x\n",
    "\n",
    "    ylabel: название оси y\n",
    "\n",
    "    figsize: размер графика\n",
    "\n",
    "    title: название графика\n",
    "\n",
    "    dots_legend: Подпись для точек\n",
    "\n",
    "    approx_legend: Подпись для аппроксимации\n",
    "\n",
    "    name: имя под которым сохраним график, если передать None, то не сохраним\n",
    "\n",
    "    return popt -- параметры функции\n",
    "    '''\n",
    "    if ejects is not None:\n",
    "        ejects = set(ejects)\n",
    "    assert len(x) == len(y), \"x and y must be the same size\"\n",
    "\n",
    "    if function is not None and ejects is not None:\n",
    "        x_new, y_new = [], []\n",
    "        for i in range(len(x)):\n",
    "            if i not in ejects:\n",
    "                x_new.append(x[i])\n",
    "                y_new.append(y[i])\n",
    "    else:\n",
    "        x_new, y_new = x, y\n",
    "\n",
    "    if function is not None:\n",
    "        popt, pcov = curve_fit(function, xdata=x_new, ydata=y_new)\n",
    "\n",
    "        x_model = np.linspace(min(x), max(x), 1000)\n",
    "        y_model = function(x_model, *popt)\n",
    "\n",
    "    \n",
    "    plt.figure(figsize=figsize)\n",
    "    plt.grid(True, linestyle=\"--\")\n",
    "    plt.xlabel(xlabel)\n",
    "    plt.ylabel(ylabel)\n",
    "    plt.title(title)\n",
    "    if xerror is not None and yerror is not None:\n",
    "        plt.errorbar(x, y, yerr=yerror, xerr=xerror, fmt=\"+r\")\n",
    "    else:\n",
    "        plt.plot(x, y, \"+r\", label=dots_legend)\n",
    "\n",
    "    if function is not None:\n",
    "        leg = approx_legend\n",
    "        if function_tamplate is not None:\n",
    "            leg += \" \" + function_tamplate.get(*popt, prec=precision_print)\n",
    "        plt.plot(x_model, y_model, color=\"blue\", label=leg)\n",
    "    plt.legend()\n",
    "    if name is not None:\n",
    "        plt.savefig(f\"{name}.pdf\", format=\"pdf\")\n",
    "\n",
    "    return popt, pcov"
   ]
  },
  {
   "cell_type": "code",
   "execution_count": 5,
   "metadata": {},
   "outputs": [],
   "source": [
    "def get_sigma(formula, sigmas):\n",
    "    sigma_res = 0\n",
    "    for symb in formula.free_symbols:\n",
    "        if symb in sigmas.keys():\n",
    "            sigma_res += formula.diff(symb) ** 2 * sigmas[symb]**2\n",
    "    return sy.sqrt(sigma_res)"
   ]
  },
  {
   "cell_type": "code",
   "execution_count": 6,
   "metadata": {},
   "outputs": [],
   "source": [
    "def calc_random_error(data):\n",
    "    return np.sqrt(\n",
    "            np.sum(np.square(data - np.mean(data)))\n",
    "        ) / np.sqrt(len(data) - 1)"
   ]
  },
  {
   "cell_type": "markdown",
   "metadata": {},
   "source": [
    "# Считывание данных и предварительная обработка"
   ]
  },
  {
   "cell_type": "code",
   "execution_count": 7,
   "metadata": {},
   "outputs": [],
   "source": [
    "table_name = \"5_1.ods\""
   ]
  },
  {
   "cell_type": "markdown",
   "metadata": {},
   "source": [
    "# Путкт 2"
   ]
  },
  {
   "cell_type": "code",
   "execution_count": 8,
   "metadata": {},
   "outputs": [
    {
     "data": {
      "text/html": [
       "<div>\n",
       "<style scoped>\n",
       "    .dataframe tbody tr th:only-of-type {\n",
       "        vertical-align: middle;\n",
       "    }\n",
       "\n",
       "    .dataframe tbody tr th {\n",
       "        vertical-align: top;\n",
       "    }\n",
       "\n",
       "    .dataframe thead th {\n",
       "        text-align: right;\n",
       "    }\n",
       "</style>\n",
       "<table border=\"1\" class=\"dataframe\">\n",
       "  <thead>\n",
       "    <tr style=\"text-align: right;\">\n",
       "      <th></th>\n",
       "      <th>number</th>\n",
       "      <th>t</th>\n",
       "      <th>closed</th>\n",
       "      <th>speed_closed</th>\n",
       "      <th>opened</th>\n",
       "      <th>speed_open</th>\n",
       "    </tr>\n",
       "  </thead>\n",
       "  <tbody>\n",
       "    <tr>\n",
       "      <th>0</th>\n",
       "      <td>1</td>\n",
       "      <td>20</td>\n",
       "      <td>1123</td>\n",
       "      <td>56.15</td>\n",
       "      <td>286020</td>\n",
       "      <td>14301.00</td>\n",
       "    </tr>\n",
       "    <tr>\n",
       "      <th>1</th>\n",
       "      <td>2</td>\n",
       "      <td>20</td>\n",
       "      <td>1086</td>\n",
       "      <td>54.30</td>\n",
       "      <td>287013</td>\n",
       "      <td>14350.65</td>\n",
       "    </tr>\n",
       "    <tr>\n",
       "      <th>2</th>\n",
       "      <td>3</td>\n",
       "      <td>20</td>\n",
       "      <td>726</td>\n",
       "      <td>36.30</td>\n",
       "      <td>287875</td>\n",
       "      <td>14393.75</td>\n",
       "    </tr>\n",
       "  </tbody>\n",
       "</table>\n",
       "</div>"
      ],
      "text/plain": [
       "   number   t  closed  speed_closed  opened  speed_open\n",
       "0       1  20    1123         56.15  286020    14301.00\n",
       "1       2  20    1086         54.30  287013    14350.65\n",
       "2       3  20     726         36.30  287875    14393.75"
      ]
     },
     "execution_count": 8,
     "metadata": {},
     "output_type": "execute_result"
    }
   ],
   "source": [
    "p2_data = pd.read_excel(table_name, engine=\"odf\", sheet_name=\"2\")\n",
    "p2_data\n"
   ]
  },
  {
   "cell_type": "code",
   "execution_count": 9,
   "metadata": {},
   "outputs": [
    {
     "name": "stdout",
     "output_type": "stream",
     "text": [
      "Скорость со свинцовой пробкой: 49 частиц/с\n",
      "Скорость без свинцовой пробки: 14348 частиц/с\n"
     ]
    }
   ],
   "source": [
    "print(f\"Скорость со свинцовой пробкой: {np.mean(p2_data[\"speed_closed\"]):.0f} частиц/с\")\n",
    "print(f\"Скорость без свинцовой пробки: {np.mean(p2_data[\"speed_open\"]):.0f} частиц/с\")"
   ]
  },
  {
   "cell_type": "markdown",
   "metadata": {},
   "source": [
    "# Пункт 3"
   ]
  },
  {
   "cell_type": "markdown",
   "metadata": {},
   "source": [
    "## Измерение фона"
   ]
  },
  {
   "cell_type": "code",
   "execution_count": 10,
   "metadata": {},
   "outputs": [
    {
     "data": {
      "text/html": [
       "<div>\n",
       "<style scoped>\n",
       "    .dataframe tbody tr th:only-of-type {\n",
       "        vertical-align: middle;\n",
       "    }\n",
       "\n",
       "    .dataframe tbody tr th {\n",
       "        vertical-align: top;\n",
       "    }\n",
       "\n",
       "    .dataframe thead th {\n",
       "        text-align: right;\n",
       "    }\n",
       "</style>\n",
       "<table border=\"1\" class=\"dataframe\">\n",
       "  <thead>\n",
       "    <tr style=\"text-align: right;\">\n",
       "      <th></th>\n",
       "      <th>number</th>\n",
       "      <th>N</th>\n",
       "      <th>t, s</th>\n",
       "      <th>speed</th>\n",
       "      <th>sigma</th>\n",
       "    </tr>\n",
       "  </thead>\n",
       "  <tbody>\n",
       "    <tr>\n",
       "      <th>0</th>\n",
       "      <td>1</td>\n",
       "      <td>5690.0</td>\n",
       "      <td>150.0</td>\n",
       "      <td>37.933333</td>\n",
       "      <td>194.243066</td>\n",
       "    </tr>\n",
       "    <tr>\n",
       "      <th>1</th>\n",
       "      <td>2</td>\n",
       "      <td>7227.0</td>\n",
       "      <td>150.0</td>\n",
       "      <td>48.180000</td>\n",
       "      <td>13.619380</td>\n",
       "    </tr>\n",
       "    <tr>\n",
       "      <th>2</th>\n",
       "      <td>3</td>\n",
       "      <td>7595.0</td>\n",
       "      <td>150.0</td>\n",
       "      <td>50.633333</td>\n",
       "      <td>1.530444</td>\n",
       "    </tr>\n",
       "    <tr>\n",
       "      <th>3</th>\n",
       "      <td>4</td>\n",
       "      <td>9060.0</td>\n",
       "      <td>180.0</td>\n",
       "      <td>50.333333</td>\n",
       "      <td>2.362711</td>\n",
       "    </tr>\n",
       "    <tr>\n",
       "      <th>4</th>\n",
       "      <td>5</td>\n",
       "      <td>9744.0</td>\n",
       "      <td>180.0</td>\n",
       "      <td>54.133333</td>\n",
       "      <td>5.120666</td>\n",
       "    </tr>\n",
       "    <tr>\n",
       "      <th>5</th>\n",
       "      <td>6</td>\n",
       "      <td>10093.0</td>\n",
       "      <td>180.0</td>\n",
       "      <td>56.072222</td>\n",
       "      <td>17.654936</td>\n",
       "    </tr>\n",
       "    <tr>\n",
       "      <th>6</th>\n",
       "      <td>avg</td>\n",
       "      <td>NaN</td>\n",
       "      <td>NaN</td>\n",
       "      <td>51.870444</td>\n",
       "      <td>2.838596</td>\n",
       "    </tr>\n",
       "  </tbody>\n",
       "</table>\n",
       "</div>"
      ],
      "text/plain": [
       "  number        N   t, s      speed       sigma\n",
       "0      1   5690.0  150.0  37.933333  194.243066\n",
       "1      2   7227.0  150.0  48.180000   13.619380\n",
       "2      3   7595.0  150.0  50.633333    1.530444\n",
       "3      4   9060.0  180.0  50.333333    2.362711\n",
       "4      5   9744.0  180.0  54.133333    5.120666\n",
       "5      6  10093.0  180.0  56.072222   17.654936\n",
       "6    avg      NaN    NaN  51.870444    2.838596"
      ]
     },
     "execution_count": 10,
     "metadata": {},
     "output_type": "execute_result"
    }
   ],
   "source": [
    "noise_data = pd.read_excel(table_name, engine=\"odf\", sheet_name=\"noise\")\n",
    "noise_data"
   ]
  },
  {
   "cell_type": "code",
   "execution_count": 11,
   "metadata": {},
   "outputs": [
    {
     "name": "stdout",
     "output_type": "stream",
     "text": [
      "Фоновое излучение: 50 +- 6 частиц/с\n"
     ]
    }
   ],
   "source": [
    "noise_value = np.mean(noise_data[\"speed\"])\n",
    "noise_error = calc_random_error(noise_data[\"speed\"])\n",
    "\n",
    "print(f\"Фоновое излучение: {noise_value:.0f} +- {noise_error:.0f} частиц/с\")"
   ]
  },
  {
   "cell_type": "markdown",
   "metadata": {},
   "source": [
    "## Измерение без образцов"
   ]
  },
  {
   "cell_type": "code",
   "execution_count": 12,
   "metadata": {},
   "outputs": [
    {
     "data": {
      "text/html": [
       "<div>\n",
       "<style scoped>\n",
       "    .dataframe tbody tr th:only-of-type {\n",
       "        vertical-align: middle;\n",
       "    }\n",
       "\n",
       "    .dataframe tbody tr th {\n",
       "        vertical-align: top;\n",
       "    }\n",
       "\n",
       "    .dataframe thead th {\n",
       "        text-align: right;\n",
       "    }\n",
       "</style>\n",
       "<table border=\"1\" class=\"dataframe\">\n",
       "  <thead>\n",
       "    <tr style=\"text-align: right;\">\n",
       "      <th></th>\n",
       "      <th>number</th>\n",
       "      <th>N</th>\n",
       "      <th>t, s</th>\n",
       "      <th>speed</th>\n",
       "      <th>sigma</th>\n",
       "      <th>Unnamed: 5</th>\n",
       "      <th>speed.1</th>\n",
       "      <th>sigma.1</th>\n",
       "    </tr>\n",
       "  </thead>\n",
       "  <tbody>\n",
       "    <tr>\n",
       "      <th>0</th>\n",
       "      <td>1.0</td>\n",
       "      <td>360522.0</td>\n",
       "      <td>25.0</td>\n",
       "      <td>14420.880000</td>\n",
       "      <td>29.738844</td>\n",
       "      <td>NaN</td>\n",
       "      <td>14374.462889</td>\n",
       "      <td>39.684402</td>\n",
       "    </tr>\n",
       "    <tr>\n",
       "      <th>1</th>\n",
       "      <td>2.0</td>\n",
       "      <td>359744.0</td>\n",
       "      <td>25.0</td>\n",
       "      <td>14389.760000</td>\n",
       "      <td>1337.608711</td>\n",
       "      <td>NaN</td>\n",
       "      <td>NaN</td>\n",
       "      <td>NaN</td>\n",
       "    </tr>\n",
       "    <tr>\n",
       "      <th>2</th>\n",
       "      <td>3.0</td>\n",
       "      <td>361709.0</td>\n",
       "      <td>25.0</td>\n",
       "      <td>14468.360000</td>\n",
       "      <td>1766.240711</td>\n",
       "      <td>NaN</td>\n",
       "      <td>NaN</td>\n",
       "      <td>NaN</td>\n",
       "    </tr>\n",
       "    <tr>\n",
       "      <th>3</th>\n",
       "      <td>NaN</td>\n",
       "      <td>NaN</td>\n",
       "      <td>NaN</td>\n",
       "      <td>14426.333333</td>\n",
       "      <td>39.582750</td>\n",
       "      <td>NaN</td>\n",
       "      <td>NaN</td>\n",
       "      <td>NaN</td>\n",
       "    </tr>\n",
       "  </tbody>\n",
       "</table>\n",
       "</div>"
      ],
      "text/plain": [
       "   number         N  t, s         speed        sigma  Unnamed: 5  \\\n",
       "0     1.0  360522.0  25.0  14420.880000    29.738844         NaN   \n",
       "1     2.0  359744.0  25.0  14389.760000  1337.608711         NaN   \n",
       "2     3.0  361709.0  25.0  14468.360000  1766.240711         NaN   \n",
       "3     NaN       NaN   NaN  14426.333333    39.582750         NaN   \n",
       "\n",
       "        speed.1    sigma.1  \n",
       "0  14374.462889  39.684402  \n",
       "1           NaN        NaN  \n",
       "2           NaN        NaN  \n",
       "3           NaN        NaN  "
      ]
     },
     "execution_count": 12,
     "metadata": {},
     "output_type": "execute_result"
    }
   ],
   "source": [
    "empty_data = pd.read_excel(table_name, engine=\"odf\", sheet_name=\"empty\")\n",
    "empty_data"
   ]
  },
  {
   "cell_type": "code",
   "execution_count": 13,
   "metadata": {},
   "outputs": [
    {
     "name": "stdout",
     "output_type": "stream",
     "text": [
      "Излучение без образцов: 14426 +- 32 частиц/с\n"
     ]
    }
   ],
   "source": [
    "empty_value = np.mean(empty_data[\"speed\"])\n",
    "empty_error = calc_random_error(empty_data[\"speed\"])\n",
    "\n",
    "print(f\"Излучение без образцов: {empty_value:.0f} +- {empty_error:.0f} частиц/с\")"
   ]
  },
  {
   "cell_type": "markdown",
   "metadata": {},
   "source": [
    "## Измерение материалов"
   ]
  },
  {
   "cell_type": "markdown",
   "metadata": {},
   "source": [
    "$$ \\mu = \\cfrac{1}{l} \\ln{\\cfrac{N_0}{N}} $$\n",
    "\n",
    "$$ \\ln{\\cfrac{N_0}{N}} = \\mu l $$"
   ]
  },
  {
   "cell_type": "markdown",
   "metadata": {},
   "source": [
    "$\\sigma_{log} = \\sqrt{\\left(\\cfrac{\\sigma_N}{N}\\right)^2 + \\left(\\cfrac{\\sigma_{N_0}}{N_0}\\right)^2}$"
   ]
  },
  {
   "cell_type": "code",
   "execution_count": 14,
   "metadata": {},
   "outputs": [
    {
     "data": {
      "text/html": [
       "<div>\n",
       "<style scoped>\n",
       "    .dataframe tbody tr th:only-of-type {\n",
       "        vertical-align: middle;\n",
       "    }\n",
       "\n",
       "    .dataframe tbody tr th {\n",
       "        vertical-align: top;\n",
       "    }\n",
       "\n",
       "    .dataframe thead th {\n",
       "        text-align: right;\n",
       "    }\n",
       "</style>\n",
       "<table border=\"1\" class=\"dataframe\">\n",
       "  <thead>\n",
       "    <tr style=\"text-align: right;\">\n",
       "      <th></th>\n",
       "      <th>N</th>\n",
       "      <th>l</th>\n",
       "      <th>sigma_l</th>\n",
       "      <th>speed_raw</th>\n",
       "      <th>sigma_raw</th>\n",
       "      <th>speed</th>\n",
       "      <th>sigma</th>\n",
       "      <th>LogN</th>\n",
       "      <th>sigma_log</th>\n",
       "      <th>mu</th>\n",
       "    </tr>\n",
       "  </thead>\n",
       "  <tbody>\n",
       "    <tr>\n",
       "      <th>0</th>\n",
       "      <td>1</td>\n",
       "      <td>2</td>\n",
       "      <td>0.015</td>\n",
       "      <td>5913.463889</td>\n",
       "      <td>32.283966</td>\n",
       "      <td>5861.593444</td>\n",
       "      <td>32.408519</td>\n",
       "      <td>0.389576</td>\n",
       "      <td>0.006180</td>\n",
       "      <td>0.194788</td>\n",
       "    </tr>\n",
       "    <tr>\n",
       "      <th>1</th>\n",
       "      <td>3</td>\n",
       "      <td>6</td>\n",
       "      <td>0.045</td>\n",
       "      <td>1469.177778</td>\n",
       "      <td>10.506945</td>\n",
       "      <td>1417.307333</td>\n",
       "      <td>10.883635</td>\n",
       "      <td>1.006128</td>\n",
       "      <td>0.008160</td>\n",
       "      <td>0.167688</td>\n",
       "    </tr>\n",
       "    <tr>\n",
       "      <th>2</th>\n",
       "      <td>5</td>\n",
       "      <td>10</td>\n",
       "      <td>0.075</td>\n",
       "      <td>250.471667</td>\n",
       "      <td>1.887975</td>\n",
       "      <td>198.601222</td>\n",
       "      <td>3.409117</td>\n",
       "      <td>1.859610</td>\n",
       "      <td>0.017386</td>\n",
       "      <td>0.185961</td>\n",
       "    </tr>\n",
       "  </tbody>\n",
       "</table>\n",
       "</div>"
      ],
      "text/plain": [
       "   N   l  sigma_l    speed_raw  sigma_raw        speed      sigma      LogN  \\\n",
       "0  1   2    0.015  5913.463889  32.283966  5861.593444  32.408519  0.389576   \n",
       "1  3   6    0.045  1469.177778  10.506945  1417.307333  10.883635  1.006128   \n",
       "2  5  10    0.075   250.471667   1.887975   198.601222   3.409117  1.859610   \n",
       "\n",
       "   sigma_log        mu  \n",
       "0   0.006180  0.194788  \n",
       "1   0.008160  0.167688  \n",
       "2   0.017386  0.185961  "
      ]
     },
     "execution_count": 14,
     "metadata": {},
     "output_type": "execute_result"
    }
   ],
   "source": [
    "Al_data = pd.read_excel(table_name, engine=\"odf\", sheet_name=\"Al\")\n",
    "Al_data"
   ]
  },
  {
   "cell_type": "code",
   "execution_count": 21,
   "metadata": {},
   "outputs": [],
   "source": [
    "f_print = linear_func_print(y=r\"\\ln{\\frac{N_0}{N}}\", x=\"l\")"
   ]
  },
  {
   "cell_type": "code",
   "execution_count": 26,
   "metadata": {},
   "outputs": [
    {
     "name": "stdout",
     "output_type": "stream",
     "text": [
      "Errors: [0.00584445]\n"
     ]
    },
    {
     "data": {
      "image/png": "[encoded data removed]",
      "text/plain": [
       "<Figure size 1200x600 with 1 Axes>"
      ]
     },
     "metadata": {},
     "output_type": "display_data"
    }
   ],
   "source": [
    "popt, pcov = plot(Al_data[\"l\"], Al_data[\"LogN\"], linear_func, xerror=Al_data[\"sigma_l\"], yerror=Al_data[\"sigma_log\"],\n",
    "            xlabel=r\"$l, см$\", ylabel=r\"$\\ln{\\frac{N_0}{N}}$\", name=\"graph_Al\", title=\"Зависимость для Al\", \n",
    "            dots_legend=\"Экспериментальные точки\", function_tamplate=f_print)\n",
    "\n",
    "perr = np.sqrt(np.diag(pcov))\n",
    "print(\"Errors:\", perr)"
   ]
  },
  {
   "cell_type": "code",
   "execution_count": 16,
   "metadata": {},
   "outputs": [
    {
     "data": {
      "text/html": [
       "<div>\n",
       "<style scoped>\n",
       "    .dataframe tbody tr th:only-of-type {\n",
       "        vertical-align: middle;\n",
       "    }\n",
       "\n",
       "    .dataframe tbody tr th {\n",
       "        vertical-align: top;\n",
       "    }\n",
       "\n",
       "    .dataframe thead th {\n",
       "        text-align: right;\n",
       "    }\n",
       "</style>\n",
       "<table border=\"1\" class=\"dataframe\">\n",
       "  <thead>\n",
       "    <tr style=\"text-align: right;\">\n",
       "      <th></th>\n",
       "      <th>N</th>\n",
       "      <th>l</th>\n",
       "      <th>sigma_l</th>\n",
       "      <th>speed_raw</th>\n",
       "      <th>sigma_raw</th>\n",
       "      <th>speed</th>\n",
       "      <th>sigma</th>\n",
       "      <th>LogN</th>\n",
       "      <th>sigma_log</th>\n",
       "      <th>mu</th>\n",
       "    </tr>\n",
       "  </thead>\n",
       "  <tbody>\n",
       "    <tr>\n",
       "      <th>0</th>\n",
       "      <td>1</td>\n",
       "      <td>1.0225</td>\n",
       "      <td>0.022361</td>\n",
       "      <td>7517.041667</td>\n",
       "      <td>11.113362</td>\n",
       "      <td>7465.171222</td>\n",
       "      <td>11.470154</td>\n",
       "      <td>0.284552</td>\n",
       "      <td>0.003160</td>\n",
       "      <td>0.278290</td>\n",
       "    </tr>\n",
       "    <tr>\n",
       "      <th>1</th>\n",
       "      <td>3</td>\n",
       "      <td>3.0675</td>\n",
       "      <td>0.067082</td>\n",
       "      <td>2591.800000</td>\n",
       "      <td>9.810452</td>\n",
       "      <td>2539.929556</td>\n",
       "      <td>10.212864</td>\n",
       "      <td>0.752770</td>\n",
       "      <td>0.004877</td>\n",
       "      <td>0.245402</td>\n",
       "    </tr>\n",
       "    <tr>\n",
       "      <th>2</th>\n",
       "      <td>4</td>\n",
       "      <td>4.0900</td>\n",
       "      <td>0.089443</td>\n",
       "      <td>1509.687500</td>\n",
       "      <td>NaN</td>\n",
       "      <td>1457.817056</td>\n",
       "      <td>2.838596</td>\n",
       "      <td>0.993889</td>\n",
       "      <td>0.003378</td>\n",
       "      <td>0.243005</td>\n",
       "    </tr>\n",
       "  </tbody>\n",
       "</table>\n",
       "</div>"
      ],
      "text/plain": [
       "   N       l   sigma_l    speed_raw  sigma_raw        speed      sigma  \\\n",
       "0  1  1.0225  0.022361  7517.041667  11.113362  7465.171222  11.470154   \n",
       "1  3  3.0675  0.067082  2591.800000   9.810452  2539.929556  10.212864   \n",
       "2  4  4.0900  0.089443  1509.687500        NaN  1457.817056   2.838596   \n",
       "\n",
       "       LogN  sigma_log        mu  \n",
       "0  0.284552   0.003160  0.278290  \n",
       "1  0.752770   0.004877  0.245402  \n",
       "2  0.993889   0.003378  0.243005  "
      ]
     },
     "execution_count": 16,
     "metadata": {},
     "output_type": "execute_result"
    }
   ],
   "source": [
    "Fe_data = pd.read_excel(table_name, engine=\"odf\", sheet_name=\"Fe\")\n",
    "Fe_data"
   ]
  },
  {
   "cell_type": "code",
   "execution_count": 31,
   "metadata": {},
   "outputs": [
    {
     "name": "stdout",
     "output_type": "stream",
     "text": [
      "Errors: [0.00474839]\n"
     ]
    },
    {
     "data": {
      "image/png": "[encoded data removed]",
      "text/plain": [
       "<Figure size 1200x600 with 1 Axes>"
      ]
     },
     "metadata": {},
     "output_type": "display_data"
    }
   ],
   "source": [
    "popt, pcov = plot(Fe_data[\"l\"], Fe_data[\"LogN\"], linear_func, xerror=Fe_data[\"sigma_l\"], yerror=Fe_data[\"sigma_log\"],\n",
    "            xlabel=r\"$l, см$\", ylabel=r\"$\\ln{\\frac{N_0}{N}}$\", name=\"graph_Fe\", title=\"Зависимость для Fe\", \n",
    "            dots_legend=\"Экспериментальные точки\", function_tamplate=f_print)\n",
    "\n",
    "perr = np.sqrt(np.diag(pcov))\n",
    "print(\"Errors:\", perr)"
   ]
  },
  {
   "cell_type": "code",
   "execution_count": 18,
   "metadata": {},
   "outputs": [
    {
     "data": {
      "text/html": [
       "<div>\n",
       "<style scoped>\n",
       "    .dataframe tbody tr th:only-of-type {\n",
       "        vertical-align: middle;\n",
       "    }\n",
       "\n",
       "    .dataframe tbody tr th {\n",
       "        vertical-align: top;\n",
       "    }\n",
       "\n",
       "    .dataframe thead th {\n",
       "        text-align: right;\n",
       "    }\n",
       "</style>\n",
       "<table border=\"1\" class=\"dataframe\">\n",
       "  <thead>\n",
       "    <tr style=\"text-align: right;\">\n",
       "      <th></th>\n",
       "      <th>N</th>\n",
       "      <th>l</th>\n",
       "      <th>sigma_l</th>\n",
       "      <th>speed_raw</th>\n",
       "      <th>sigma_raw</th>\n",
       "      <th>speed</th>\n",
       "      <th>sigma</th>\n",
       "      <th>LogN</th>\n",
       "      <th>sigma_log</th>\n",
       "      <th>mu</th>\n",
       "    </tr>\n",
       "  </thead>\n",
       "  <tbody>\n",
       "    <tr>\n",
       "      <th>0</th>\n",
       "      <td>1</td>\n",
       "      <td>0.475</td>\n",
       "      <td>0.071937</td>\n",
       "      <td>7975.408333</td>\n",
       "      <td>21.637468</td>\n",
       "      <td>7923.537889</td>\n",
       "      <td>21.822869</td>\n",
       "      <td>0.258672</td>\n",
       "      <td>0.003900</td>\n",
       "      <td>0.544574</td>\n",
       "    </tr>\n",
       "    <tr>\n",
       "      <th>1</th>\n",
       "      <td>3</td>\n",
       "      <td>1.425</td>\n",
       "      <td>0.215812</td>\n",
       "      <td>2888.491667</td>\n",
       "      <td>NaN</td>\n",
       "      <td>2836.621222</td>\n",
       "      <td>2.838596</td>\n",
       "      <td>0.704790</td>\n",
       "      <td>0.002937</td>\n",
       "      <td>0.494590</td>\n",
       "    </tr>\n",
       "    <tr>\n",
       "      <th>2</th>\n",
       "      <td>5</td>\n",
       "      <td>2.375</td>\n",
       "      <td>0.359687</td>\n",
       "      <td>1017.744444</td>\n",
       "      <td>NaN</td>\n",
       "      <td>965.874000</td>\n",
       "      <td>2.838596</td>\n",
       "      <td>1.172671</td>\n",
       "      <td>0.004032</td>\n",
       "      <td>0.493756</td>\n",
       "    </tr>\n",
       "    <tr>\n",
       "      <th>3</th>\n",
       "      <td>6</td>\n",
       "      <td>2.850</td>\n",
       "      <td>0.431625</td>\n",
       "      <td>642.433333</td>\n",
       "      <td>NaN</td>\n",
       "      <td>590.562889</td>\n",
       "      <td>2.838596</td>\n",
       "      <td>1.386325</td>\n",
       "      <td>0.005543</td>\n",
       "      <td>0.486430</td>\n",
       "    </tr>\n",
       "  </tbody>\n",
       "</table>\n",
       "</div>"
      ],
      "text/plain": [
       "   N      l   sigma_l    speed_raw  sigma_raw        speed      sigma  \\\n",
       "0  1  0.475  0.071937  7975.408333  21.637468  7923.537889  21.822869   \n",
       "1  3  1.425  0.215812  2888.491667        NaN  2836.621222   2.838596   \n",
       "2  5  2.375  0.359687  1017.744444        NaN   965.874000   2.838596   \n",
       "3  6  2.850  0.431625   642.433333        NaN   590.562889   2.838596   \n",
       "\n",
       "       LogN  sigma_log        mu  \n",
       "0  0.258672   0.003900  0.544574  \n",
       "1  0.704790   0.002937  0.494590  \n",
       "2  1.172671   0.004032  0.493756  \n",
       "3  1.386325   0.005543  0.486430  "
      ]
     },
     "execution_count": 18,
     "metadata": {},
     "output_type": "execute_result"
    }
   ],
   "source": [
    "Pb_data = pd.read_excel(table_name, engine=\"odf\", sheet_name=\"Pb\")\n",
    "Pb_data"
   ]
  },
  {
   "cell_type": "code",
   "execution_count": 30,
   "metadata": {},
   "outputs": [
    {
     "name": "stdout",
     "output_type": "stream",
     "text": [
      "Errors: [0.00429355]\n"
     ]
    },
    {
     "data": {
      "image/png": "[encoded data removed]",
      "text/plain": [
       "<Figure size 1200x600 with 1 Axes>"
      ]
     },
     "metadata": {},
     "output_type": "display_data"
    }
   ],
   "source": [
    "popt, pcov = plot(Pb_data[\"l\"], Pb_data[\"LogN\"], linear_func, xerror=Pb_data[\"sigma_l\"], yerror=Pb_data[\"sigma_log\"],\n",
    "            xlabel=r\"$l, см$\", ylabel=r\"$\\ln{\\frac{N_0}{N}}$\", name=\"graph_Pb\", title=\"Зависимость для Pb\", \n",
    "            dots_legend=\"Экспериментальные точки\", function_tamplate=f_print)\n",
    "\n",
    "perr = np.sqrt(np.diag(pcov))\n",
    "print(\"Errors:\", perr)"
   ]
  },
  {
   "cell_type": "code",
   "execution_count": null,
   "metadata": {},
   "outputs": [],
   "source": []
  }
 ],
 "metadata": {
  "kernelspec": {
   "display_name": "venv",
   "language": "python",
   "name": "python3"
  },
  "language_info": {
   "codemirror_mode": {
    "name": "ipython",
    "version": 3
   },
   "file_extension": ".py",
   "mimetype": "text/x-python",
   "name": "python",
   "nbconvert_exporter": "python",
   "pygments_lexer": "ipython3",
   "version": "3.13.7"
  }
 },
 "nbformat": 4,
 "nbformat_minor": 2
}
