{
 "cells": [
  {
   "cell_type": "code",
   "execution_count": 79,
   "id": "9b794ec5",
   "metadata": {},
   "outputs": [],
   "source": [
    "import numpy as np\n",
    "import pandas as pd\n",
    "import matplotlib.pyplot as plt\n",
    "\n",
    "from scipy.interpolate import CubicSpline\n",
    "from scipy.optimize import curve_fit"
   ]
  },
  {
   "cell_type": "code",
   "execution_count": 165,
   "id": "4bfbf397",
   "metadata": {},
   "outputs": [],
   "source": [
    "def format_by_sigma(x, sigma_x):\n",
    "    exp = 0\n",
    "    while not 1 < np.abs(sigma_x) < 10:\n",
    "        if np.abs(sigma_x) < 10:\n",
    "            sigma_x *= 10\n",
    "            exp += 1\n",
    "        else:\n",
    "            sigma_x /= 10\n",
    "            exp += 1\n",
    "    x = x * np.pow(10, exp)\n",
    "    fmt = \"{:.0f}\"\n",
    "    return x, sigma_x, fmt, exp"
   ]
  },
  {
   "cell_type": "code",
   "execution_count": 248,
   "id": "dcc10f8b",
   "metadata": {},
   "outputs": [],
   "source": [
    "sigma_phi = 1       # делений\n",
    "sigma_lambda = 0.5  # A"
   ]
  },
  {
   "cell_type": "code",
   "execution_count": 3,
   "id": "850262a9",
   "metadata": {},
   "outputs": [
    {
     "data": {
      "text/html": [
       "<div>\n",
       "<style scoped>\n",
       "    .dataframe tbody tr th:only-of-type {\n",
       "        vertical-align: middle;\n",
       "    }\n",
       "\n",
       "    .dataframe tbody tr th {\n",
       "        vertical-align: top;\n",
       "    }\n",
       "\n",
       "    .dataframe thead th {\n",
       "        text-align: right;\n",
       "    }\n",
       "</style>\n",
       "<table border=\"1\" class=\"dataframe\">\n",
       "  <thead>\n",
       "    <tr style=\"text-align: right;\">\n",
       "      <th></th>\n",
       "      <th>lambda</th>\n",
       "      <th>phi</th>\n",
       "      <th>material</th>\n",
       "    </tr>\n",
       "  </thead>\n",
       "  <tbody>\n",
       "    <tr>\n",
       "      <th>0</th>\n",
       "      <td>5331</td>\n",
       "      <td>1834</td>\n",
       "      <td>Ne</td>\n",
       "    </tr>\n",
       "    <tr>\n",
       "      <th>1</th>\n",
       "      <td>5341</td>\n",
       "      <td>1842</td>\n",
       "      <td>Ne</td>\n",
       "    </tr>\n",
       "    <tr>\n",
       "      <th>2</th>\n",
       "      <td>5401</td>\n",
       "      <td>1884</td>\n",
       "      <td>Ne</td>\n",
       "    </tr>\n",
       "    <tr>\n",
       "      <th>3</th>\n",
       "      <td>5852</td>\n",
       "      <td>2145</td>\n",
       "      <td>Ne</td>\n",
       "    </tr>\n",
       "    <tr>\n",
       "      <th>4</th>\n",
       "      <td>5882</td>\n",
       "      <td>2158</td>\n",
       "      <td>Ne</td>\n",
       "    </tr>\n",
       "  </tbody>\n",
       "</table>\n",
       "</div>"
      ],
      "text/plain": [
       "   lambda   phi material\n",
       "0    5331  1834       Ne\n",
       "1    5341  1842       Ne\n",
       "2    5401  1884       Ne\n",
       "3    5852  2145       Ne\n",
       "4    5882  2158       Ne"
      ]
     },
     "execution_count": 3,
     "metadata": {},
     "output_type": "execute_result"
    }
   ],
   "source": [
    "grad_data = pd.read_excel(\"data.xlsx\", engine=\"openpyxl\", sheet_name=\"grad\")\n",
    "grad_data.head()"
   ]
  },
  {
   "cell_type": "markdown",
   "id": "784ca4f4",
   "metadata": {},
   "source": [
    "# Пункт 1"
   ]
  },
  {
   "cell_type": "markdown",
   "id": "0aa5a1d1",
   "metadata": {},
   "source": [
    "\n",
    "Аппроксимация градуировочной кривой:\n",
    "$$ \\lambda (\\varphi) = \\lambda_0 + \\cfrac{C}{\\varphi - \\varphi_0} $$\n",
    "\n",
    "Погршеность:\n",
    "$$\\sigma_\\lambda = \\sqrt{\\left( \\cfrac{\\partial \\lambda}{\\partial \\lambda_0}\\right)^2 \\sigma_{\\lambda_0}^2 + \\left(\\cfrac{\\partial \\lambda}{\\partial C}\\right)^2 \\sigma_{C}^2 + \\left( \\cfrac{\\partial \\lambda}{\\partial \\varphi_0}\\right)^2\\sigma_{\\varphi_0}^2 + \\left( \\cfrac{\\partial \\lambda}{\\partial \\varphi}\\right)^2 \\sigma_{\\varphi}^2} = \\sqrt{\\sigma_{\\lambda_0}^2 + \\left(\\cfrac{\\lambda - \\lambda_0}{C}\\right)^2 \\sigma_{C}^2 + \\left( \\cfrac{\\lambda - \\lambda_0}{\\varphi - \\varphi_0}\\right)^2 (\\sigma_{\\varphi_0}^2 + \\sigma_{\\varphi}^2) } $$"
   ]
  },
  {
   "cell_type": "code",
   "execution_count": 181,
   "id": "d96d006f",
   "metadata": {},
   "outputs": [],
   "source": [
    "def lambda_func(x, lambda0, x0, c):\n",
    "    return lambda0 + c / (x - x0)"
   ]
  },
  {
   "cell_type": "code",
   "execution_count": 182,
   "id": "decefac3",
   "metadata": {},
   "outputs": [],
   "source": [
    "def lambda_sigma_func(x, sigma_x, params, param_errs):\n",
    "    lambda0, x0, c = params\n",
    "    sigma_lambda0, sigma_x0, sigma_c = param_errs\n",
    "    return np.sqrt(\n",
    "        sigma_lambda0**2  + \n",
    "        np.square((x - lambda0) / c) * sigma_c**2 + \n",
    "        np.square((x - lambda0) / (x - x0)) * (sigma_x**2 + sigma_x0)\n",
    "    )"
   ]
  },
  {
   "cell_type": "code",
   "execution_count": 183,
   "id": "c71014ad",
   "metadata": {},
   "outputs": [
    {
     "name": "stdout",
     "output_type": "stream",
     "text": [
      "Параметры\n",
      "lambda_0 = (23826 +- 2) * 10^1\n",
      "varphi_0 = (3880 +- 9) * 10^0\n",
      "c        = (-60245052380 +- 7) * 10^4\n"
     ]
    },
    {
     "data": {
      "image/png": "[encoded data removed]",
      "text/plain": [
       "<Figure size 1200x600 with 1 Axes>"
      ]
     },
     "metadata": {},
     "output_type": "display_data"
    }
   ],
   "source": [
    "x = grad_data[\"phi\"]\n",
    "y = grad_data[\"lambda\"]\n",
    "dots_xy = list(zip(x, y))\n",
    "dots_xy.sort(key=(lambda x: x[0]))\n",
    "x_data, y_data = [], []\n",
    "for x_, y_ in dots_xy:\n",
    "    x_data.append(x_)\n",
    "    y_data.append(y_)\n",
    "\n",
    "\n",
    "popt, pcov = curve_fit(lambda_func, x_data, y_data, p0=(2000, 4000, -7000000), maxfev=1000)\n",
    "\n",
    "popt_err = np.sqrt(np.diag(pcov))\n",
    "popt_fmts = []\n",
    "names = [\"lambda_0\", \"varphi_0\", \"c       \"]\n",
    "print(\"Параметры\")\n",
    "for i in range(len(popt)):\n",
    "    param, param_err, fmt, exp = format_by_sigma(popt[i], popt_err[i])\n",
    "    print(f\"{names[i]} = ({fmt.format(param)} +- {fmt.format(param_err)}) * 10^{exp}\")\n",
    "\n",
    "\n",
    "x_model = np.linspace(min(x_data), max(x_data), 10000)\n",
    "y_model = lambda_func(x_model, *popt)\n",
    "\n",
    "plt.figure(figsize=(12, 6))\n",
    "\n",
    "plt.plot(x_model, y_model, \"g\", label=rf\"Градуировочная кривая $\\lambda = {popt[0]:.0f} {popt[2]:.0f} / (\\varphi - {popt[1]:.0f})$\")\n",
    "plt.errorbar(grad_data[\"phi\"], grad_data[\"lambda\"], xerr=sigma_phi, yerr=sigma_lambda, fmt=\"+b\", label=\"Градуировочные точки\")\n",
    "\n",
    "\n",
    "plt.grid(True, linestyle='--')\n",
    "plt.ylabel(r\"$\\lambda, \\AA$\")\n",
    "plt.xlabel(r\"$\\varphi$\")\n",
    "\n",
    "plt.legend()\n",
    "plt.show()"
   ]
  },
  {
   "cell_type": "markdown",
   "id": "cfa3b6fd",
   "metadata": {},
   "source": [
    "# Пункт 2"
   ]
  },
  {
   "cell_type": "code",
   "execution_count": 216,
   "id": "2b7d8c38",
   "metadata": {},
   "outputs": [],
   "source": [
    "data_H = pd.read_excel(\"data.xlsx\", engine=\"openpyxl\", sheet_name=\"H\")"
   ]
  },
  {
   "cell_type": "code",
   "execution_count": 217,
   "id": "b776b3ff",
   "metadata": {},
   "outputs": [],
   "source": [
    "# Константа для перевода м -> эВ\n",
    "c = np.float128('3e8')\n",
    "h = np.float128('6.6e-34')\n",
    "e = np.float128('1.6e-19')\n",
    "const = h * c / e"
   ]
  },
  {
   "cell_type": "code",
   "execution_count": 218,
   "id": "a348ee94",
   "metadata": {},
   "outputs": [],
   "source": [
    "data_H[\"lambda\"] = lambda_func(data_H[\"phi\"], *popt)\n",
    "data_H[\"sigma_lambda\"] = lambda_sigma_func(data_H[\"phi\"], sigma_phi, popt, popt_err)"
   ]
  },
  {
   "cell_type": "code",
   "execution_count": 219,
   "id": "1a098372",
   "metadata": {},
   "outputs": [
    {
     "data": {
      "text/html": [
       "<div>\n",
       "<style scoped>\n",
       "    .dataframe tbody tr th:only-of-type {\n",
       "        vertical-align: middle;\n",
       "    }\n",
       "\n",
       "    .dataframe tbody tr th {\n",
       "        vertical-align: top;\n",
       "    }\n",
       "\n",
       "    .dataframe thead th {\n",
       "        text-align: right;\n",
       "    }\n",
       "</style>\n",
       "<table border=\"1\" class=\"dataframe\">\n",
       "  <thead>\n",
       "    <tr style=\"text-align: right;\">\n",
       "      <th></th>\n",
       "      <th>H линия</th>\n",
       "      <th>цвет</th>\n",
       "      <th>phi</th>\n",
       "      <th>n</th>\n",
       "      <th>lambda</th>\n",
       "      <th>sigma_lambda</th>\n",
       "    </tr>\n",
       "  </thead>\n",
       "  <tbody>\n",
       "    <tr>\n",
       "      <th>0</th>\n",
       "      <td>alpha</td>\n",
       "      <td>красный</td>\n",
       "      <td>2440.0</td>\n",
       "      <td>3</td>\n",
       "      <td>6567.309348</td>\n",
       "      <td>20.437091</td>\n",
       "    </tr>\n",
       "    <tr>\n",
       "      <th>1</th>\n",
       "      <td>beta</td>\n",
       "      <td>Зелено-голубая</td>\n",
       "      <td>1450.0</td>\n",
       "      <td>4</td>\n",
       "      <td>4862.180395</td>\n",
       "      <td>23.019594</td>\n",
       "    </tr>\n",
       "    <tr>\n",
       "      <th>2</th>\n",
       "      <td>gamma</td>\n",
       "      <td>Фиолетово-синяя</td>\n",
       "      <td>820.0</td>\n",
       "      <td>5</td>\n",
       "      <td>4351.619759</td>\n",
       "      <td>27.054641</td>\n",
       "    </tr>\n",
       "    <tr>\n",
       "      <th>3</th>\n",
       "      <td>delta</td>\n",
       "      <td>фиолетовая</td>\n",
       "      <td>NaN</td>\n",
       "      <td>6</td>\n",
       "      <td>NaN</td>\n",
       "      <td>NaN</td>\n",
       "    </tr>\n",
       "  </tbody>\n",
       "</table>\n",
       "</div>"
      ],
      "text/plain": [
       "  H линия             цвет     phi  n       lambda  sigma_lambda\n",
       "0   alpha          красный  2440.0  3  6567.309348     20.437091\n",
       "1    beta   Зелено-голубая  1450.0  4  4862.180395     23.019594\n",
       "2   gamma  Фиолетово-синяя   820.0  5  4351.619759     27.054641\n",
       "3   delta       фиолетовая     NaN  6          NaN           NaN"
      ]
     },
     "execution_count": 219,
     "metadata": {},
     "output_type": "execute_result"
    }
   ],
   "source": [
    "data_H"
   ]
  },
  {
   "cell_type": "markdown",
   "id": "04bf4365",
   "metadata": {},
   "source": [
    "# Пункт 3"
   ]
  },
  {
   "cell_type": "markdown",
   "id": "c8e0bccd",
   "metadata": {},
   "source": [
    "$$ \\cfrac{1}{\\lambda_{mn}} = R Z^2 \\left( \\cfrac{1}{n^2} - \\cfrac{1}{m^2} \\right) \\implies \\cfrac{\\lambda_{m_1 n}}{\\lambda_{m_2 n}} = \\cfrac{1 - \\cfrac{n^2}{m_1^2}}{1 - \\cfrac{n^2}{m_2^2}} $$"
   ]
  },
  {
   "cell_type": "code",
   "execution_count": 220,
   "id": "7f790f52",
   "metadata": {},
   "outputs": [
    {
     "data": {
      "text/html": [
       "<div>\n",
       "<style scoped>\n",
       "    .dataframe tbody tr th:only-of-type {\n",
       "        vertical-align: middle;\n",
       "    }\n",
       "\n",
       "    .dataframe tbody tr th {\n",
       "        vertical-align: top;\n",
       "    }\n",
       "\n",
       "    .dataframe thead th {\n",
       "        text-align: right;\n",
       "    }\n",
       "</style>\n",
       "<table border=\"1\" class=\"dataframe\">\n",
       "  <thead>\n",
       "    <tr style=\"text-align: right;\">\n",
       "      <th></th>\n",
       "      <th></th>\n",
       "      <th>3</th>\n",
       "      <th>4</th>\n",
       "      <th>5</th>\n",
       "    </tr>\n",
       "  </thead>\n",
       "  <tbody>\n",
       "    <tr>\n",
       "      <th>0</th>\n",
       "      <td>3</td>\n",
       "      <td>1.000000</td>\n",
       "      <td>0.740361</td>\n",
       "      <td>0.662618</td>\n",
       "    </tr>\n",
       "    <tr>\n",
       "      <th>1</th>\n",
       "      <td>4</td>\n",
       "      <td>1.350692</td>\n",
       "      <td>1.000000</td>\n",
       "      <td>0.894993</td>\n",
       "    </tr>\n",
       "    <tr>\n",
       "      <th>2</th>\n",
       "      <td>5</td>\n",
       "      <td>1.509164</td>\n",
       "      <td>1.117327</td>\n",
       "      <td>1.000000</td>\n",
       "    </tr>\n",
       "  </tbody>\n",
       "</table>\n",
       "</div>"
      ],
      "text/plain": [
       "             3         4         5\n",
       "0  3  1.000000  0.740361  0.662618\n",
       "1  4  1.350692  1.000000  0.894993\n",
       "2  5  1.509164  1.117327  1.000000"
      ]
     },
     "execution_count": 220,
     "metadata": {},
     "output_type": "execute_result"
    }
   ],
   "source": [
    "ms = [\"3\", \"4\", \"5\"]\n",
    "lambdas_fracs = pd.DataFrame(columns=[\" \", \"3\", \"4\", \"5\"])\n",
    "lambdas_fracs[\" \"] = ms\n",
    "for m in ms:\n",
    "    lambdas_fracs[m] = data_H.loc[int(m) - 3, \"lambda\"] / data_H[\"lambda\"]\n",
    "lambdas_fracs"
   ]
  },
  {
   "cell_type": "code",
   "execution_count": 221,
   "id": "f2f49983",
   "metadata": {},
   "outputs": [
    {
     "data": {
      "text/html": [
       "<div>\n",
       "<style scoped>\n",
       "    .dataframe tbody tr th:only-of-type {\n",
       "        vertical-align: middle;\n",
       "    }\n",
       "\n",
       "    .dataframe tbody tr th {\n",
       "        vertical-align: top;\n",
       "    }\n",
       "\n",
       "    .dataframe thead th {\n",
       "        text-align: right;\n",
       "    }\n",
       "</style>\n",
       "<table border=\"1\" class=\"dataframe\">\n",
       "  <thead>\n",
       "    <tr style=\"text-align: right;\">\n",
       "      <th></th>\n",
       "      <th></th>\n",
       "      <th>3</th>\n",
       "      <th>4</th>\n",
       "      <th>5</th>\n",
       "    </tr>\n",
       "  </thead>\n",
       "  <tbody>\n",
       "    <tr>\n",
       "      <th>0</th>\n",
       "      <td>3</td>\n",
       "      <td>1.0</td>\n",
       "      <td>0.740741</td>\n",
       "      <td>0.661376</td>\n",
       "    </tr>\n",
       "    <tr>\n",
       "      <th>1</th>\n",
       "      <td>4</td>\n",
       "      <td>1.35</td>\n",
       "      <td>1.0</td>\n",
       "      <td>0.892857</td>\n",
       "    </tr>\n",
       "    <tr>\n",
       "      <th>2</th>\n",
       "      <td>5</td>\n",
       "      <td>1.512</td>\n",
       "      <td>1.12</td>\n",
       "      <td>1.0</td>\n",
       "    </tr>\n",
       "  </tbody>\n",
       "</table>\n",
       "</div>"
      ],
      "text/plain": [
       "          3         4         5\n",
       "0  3    1.0  0.740741  0.661376\n",
       "1  4   1.35       1.0  0.892857\n",
       "2  5  1.512      1.12       1.0"
      ]
     },
     "execution_count": 221,
     "metadata": {},
     "output_type": "execute_result"
    }
   ],
   "source": [
    "m_fracs = pd.DataFrame(columns=[\" \", \"3\", \"4\", \"5\"])\n",
    "m_fracs[\" \"] = ms\n",
    "for m1 in ms:\n",
    "    for m2 in ms:\n",
    "        val = (1 - 4 / int(m2)**2) / (1 - 4 / int(m1)**2)\n",
    "        m_fracs.loc[int(m2) - 3, m1] = val\n",
    "m_fracs"
   ]
  },
  {
   "cell_type": "markdown",
   "id": "a71d4f4b",
   "metadata": {},
   "source": [
    "Соотношения выполняются."
   ]
  },
  {
   "cell_type": "markdown",
   "id": "1419c2b0",
   "metadata": {},
   "source": [
    "# Пункт 4"
   ]
  },
  {
   "cell_type": "markdown",
   "id": "9874271f",
   "metadata": {},
   "source": [
    "$$ R = \\cfrac{1}{\\lambda_m} \\left(\\cfrac{1}{4} - \\cfrac{1}{m^2}\\right)^{-1} $$"
   ]
  },
  {
   "cell_type": "markdown",
   "id": "b8c479ef",
   "metadata": {},
   "source": [
    "Погрешность:\n",
    "\n",
    "$$ \\sigma_R = \\left| \\cfrac{\\partial R}{\\partial \\lambda_m} \\right| \\sigma_{\\lambda_m} = R \\cfrac{\\sigma_{\\lambda_m}}{\\lambda_m}  $$"
   ]
  },
  {
   "cell_type": "code",
   "execution_count": null,
   "id": "47a04abd",
   "metadata": {},
   "outputs": [
    {
     "data": {
      "text/html": [
       "<div>\n",
       "<style scoped>\n",
       "    .dataframe tbody tr th:only-of-type {\n",
       "        vertical-align: middle;\n",
       "    }\n",
       "\n",
       "    .dataframe tbody tr th {\n",
       "        vertical-align: top;\n",
       "    }\n",
       "\n",
       "    .dataframe thead th {\n",
       "        text-align: right;\n",
       "    }\n",
       "</style>\n",
       "<table border=\"1\" class=\"dataframe\">\n",
       "  <thead>\n",
       "    <tr style=\"text-align: right;\">\n",
       "      <th></th>\n",
       "      <th>H линия</th>\n",
       "      <th>цвет</th>\n",
       "      <th>phi</th>\n",
       "      <th>n</th>\n",
       "      <th>lambda</th>\n",
       "      <th>sigma_lambda</th>\n",
       "      <th>R</th>\n",
       "      <th>sigma_R</th>\n",
       "      <th>R_ev</th>\n",
       "      <th>sigma_R_ev</th>\n",
       "    </tr>\n",
       "  </thead>\n",
       "  <tbody>\n",
       "    <tr>\n",
       "      <th>0</th>\n",
       "      <td>alpha</td>\n",
       "      <td>красный</td>\n",
       "      <td>2440.0</td>\n",
       "      <td>3</td>\n",
       "      <td>6567.309348</td>\n",
       "      <td>20.437091</td>\n",
       "      <td>1.096339e+07</td>\n",
       "      <td>34117.454962</td>\n",
       "      <td>13.567200</td>\n",
       "      <td>0.042220</td>\n",
       "    </tr>\n",
       "    <tr>\n",
       "      <th>1</th>\n",
       "      <td>beta</td>\n",
       "      <td>Зелено-голубая</td>\n",
       "      <td>1450.0</td>\n",
       "      <td>4</td>\n",
       "      <td>4862.180395</td>\n",
       "      <td>23.019594</td>\n",
       "      <td>1.096902e+07</td>\n",
       "      <td>51931.905421</td>\n",
       "      <td>13.574157</td>\n",
       "      <td>0.064266</td>\n",
       "    </tr>\n",
       "    <tr>\n",
       "      <th>2</th>\n",
       "      <td>gamma</td>\n",
       "      <td>Фиолетово-синяя</td>\n",
       "      <td>820.0</td>\n",
       "      <td>5</td>\n",
       "      <td>4351.619759</td>\n",
       "      <td>27.054641</td>\n",
       "      <td>1.094283e+07</td>\n",
       "      <td>68033.154020</td>\n",
       "      <td>13.541756</td>\n",
       "      <td>0.084191</td>\n",
       "    </tr>\n",
       "    <tr>\n",
       "      <th>3</th>\n",
       "      <td>delta</td>\n",
       "      <td>фиолетовая</td>\n",
       "      <td>NaN</td>\n",
       "      <td>6</td>\n",
       "      <td>NaN</td>\n",
       "      <td>NaN</td>\n",
       "      <td>NaN</td>\n",
       "      <td>NaN</td>\n",
       "      <td>NaN</td>\n",
       "      <td>NaN</td>\n",
       "    </tr>\n",
       "  </tbody>\n",
       "</table>\n",
       "</div>"
      ],
      "text/plain": [
       "  H линия             цвет     phi  n       lambda  sigma_lambda  \\\n",
       "0   alpha          красный  2440.0  3  6567.309348     20.437091   \n",
       "1    beta   Зелено-голубая  1450.0  4  4862.180395     23.019594   \n",
       "2   gamma  Фиолетово-синяя   820.0  5  4351.619759     27.054641   \n",
       "3   delta       фиолетовая     NaN  6          NaN           NaN   \n",
       "\n",
       "              R       sigma_R       R_ev  sigma_R_ev  \n",
       "0  1.096339e+07  34117.454962  13.567200    0.042220  \n",
       "1  1.096902e+07  51931.905421  13.574157    0.064266  \n",
       "2  1.094283e+07  68033.154020  13.541756    0.084191  \n",
       "3           NaN           NaN        NaN         NaN  "
      ]
     },
     "execution_count": 222,
     "metadata": {},
     "output_type": "execute_result"
    }
   ],
   "source": [
    "data_H[\"R\"] = 1/ (data_H[\"lambda\"] / 1e10) / (0.25 - 1 / data_H[\"n\"]**2)\n",
    "data_H[\"sigma_R\"] = data_H[\"R\"] * data_H[\"sigma_lambda\"] / data_H[\"lambda\"]\n",
    "\n",
    "data_H[\"R_ev\"] = data_H[\"R\"] * const\n",
    "data_H[\"sigma_R_ev\"] = data_H[\"sigma_R\"] * const\n",
    "data_H"
   ]
  },
  {
   "cell_type": "markdown",
   "id": "288c4763",
   "metadata": {},
   "source": [
    "# Пункт 5"
   ]
  },
  {
   "cell_type": "code",
   "execution_count": 223,
   "id": "2a029d1c",
   "metadata": {},
   "outputs": [],
   "source": [
    "data_I = pd.read_excel(\"data.xlsx\", engine=\"openpyxl\", sheet_name=\"I\")"
   ]
  },
  {
   "cell_type": "code",
   "execution_count": 225,
   "id": "e76c8280",
   "metadata": {},
   "outputs": [
    {
     "data": {
      "text/html": [
       "<div>\n",
       "<style scoped>\n",
       "    .dataframe tbody tr th:only-of-type {\n",
       "        vertical-align: middle;\n",
       "    }\n",
       "\n",
       "    .dataframe tbody tr th {\n",
       "        vertical-align: top;\n",
       "    }\n",
       "\n",
       "    .dataframe thead th {\n",
       "        text-align: right;\n",
       "    }\n",
       "</style>\n",
       "<table border=\"1\" class=\"dataframe\">\n",
       "  <thead>\n",
       "    <tr style=\"text-align: right;\">\n",
       "      <th></th>\n",
       "      <th>n</th>\n",
       "      <th>phi</th>\n",
       "      <th>lambda</th>\n",
       "      <th>sigma_lambda</th>\n",
       "    </tr>\n",
       "  </thead>\n",
       "  <tbody>\n",
       "    <tr>\n",
       "      <th>0</th>\n",
       "      <td>h_nu_1,0</td>\n",
       "      <td>2235</td>\n",
       "      <td>6045.698817</td>\n",
       "      <td>20.496448</td>\n",
       "    </tr>\n",
       "    <tr>\n",
       "      <th>1</th>\n",
       "      <td>h_nu_1.5</td>\n",
       "      <td>2128</td>\n",
       "      <td>5821.937139</td>\n",
       "      <td>20.633440</td>\n",
       "    </tr>\n",
       "    <tr>\n",
       "      <th>2</th>\n",
       "      <td>h_nu_гр</td>\n",
       "      <td>2262</td>\n",
       "      <td>6106.839252</td>\n",
       "      <td>20.473233</td>\n",
       "    </tr>\n",
       "  </tbody>\n",
       "</table>\n",
       "</div>"
      ],
      "text/plain": [
       "          n   phi       lambda  sigma_lambda\n",
       "0  h_nu_1,0  2235  6045.698817     20.496448\n",
       "1  h_nu_1.5  2128  5821.937139     20.633440\n",
       "2   h_nu_гр  2262  6106.839252     20.473233"
      ]
     },
     "execution_count": 225,
     "metadata": {},
     "output_type": "execute_result"
    }
   ],
   "source": [
    "data_I[\"lambda\"] = lambda_func(data_I[\"phi\"], *popt)\n",
    "data_I[\"sigma_lambda\"] = lambda_sigma_func(data_I[\"phi\"], sigma_phi, popt, popt_err)\n",
    "data_I"
   ]
  },
  {
   "cell_type": "markdown",
   "id": "19f1fa59",
   "metadata": {},
   "source": [
    "# Пункт 6"
   ]
  },
  {
   "cell_type": "code",
   "execution_count": 229,
   "id": "3d26f671",
   "metadata": {},
   "outputs": [
    {
     "data": {
      "text/html": [
       "<div>\n",
       "<style scoped>\n",
       "    .dataframe tbody tr th:only-of-type {\n",
       "        vertical-align: middle;\n",
       "    }\n",
       "\n",
       "    .dataframe tbody tr th {\n",
       "        vertical-align: top;\n",
       "    }\n",
       "\n",
       "    .dataframe thead th {\n",
       "        text-align: right;\n",
       "    }\n",
       "</style>\n",
       "<table border=\"1\" class=\"dataframe\">\n",
       "  <thead>\n",
       "    <tr style=\"text-align: right;\">\n",
       "      <th></th>\n",
       "      <th>n</th>\n",
       "      <th>phi</th>\n",
       "      <th>lambda</th>\n",
       "      <th>sigma_lambda</th>\n",
       "      <th>h_nu</th>\n",
       "      <th>sigma_h_nu</th>\n",
       "    </tr>\n",
       "  </thead>\n",
       "  <tbody>\n",
       "    <tr>\n",
       "      <th>0</th>\n",
       "      <td>h_nu_1,0</td>\n",
       "      <td>2235</td>\n",
       "      <td>6045.698817</td>\n",
       "      <td>20.496448</td>\n",
       "      <td>2.051045</td>\n",
       "      <td>0.006954</td>\n",
       "    </tr>\n",
       "    <tr>\n",
       "      <th>1</th>\n",
       "      <td>h_nu_1.5</td>\n",
       "      <td>2128</td>\n",
       "      <td>5821.937139</td>\n",
       "      <td>20.633440</td>\n",
       "      <td>2.129875</td>\n",
       "      <td>0.007548</td>\n",
       "    </tr>\n",
       "    <tr>\n",
       "      <th>2</th>\n",
       "      <td>h_nu_гр</td>\n",
       "      <td>2262</td>\n",
       "      <td>6106.839252</td>\n",
       "      <td>20.473233</td>\n",
       "      <td>2.030510</td>\n",
       "      <td>0.006807</td>\n",
       "    </tr>\n",
       "  </tbody>\n",
       "</table>\n",
       "</div>"
      ],
      "text/plain": [
       "          n   phi       lambda  sigma_lambda      h_nu  sigma_h_nu\n",
       "0  h_nu_1,0  2235  6045.698817     20.496448  2.051045    0.006954\n",
       "1  h_nu_1.5  2128  5821.937139     20.633440  2.129875    0.007548\n",
       "2   h_nu_гр  2262  6106.839252     20.473233  2.030510    0.006807"
      ]
     },
     "execution_count": 229,
     "metadata": {},
     "output_type": "execute_result"
    }
   ],
   "source": [
    "data_I[\"h_nu\"] = 1240 / (data_I[\"lambda\"] / 10)\n",
    "data_I[\"sigma_h_nu\"] = data_I[\"h_nu\"] * data_I[\"sigma_lambda\"] / data_I[\"lambda\"]\n",
    "data_I"
   ]
  },
  {
   "cell_type": "code",
   "execution_count": 232,
   "id": "326cd1d1",
   "metadata": {},
   "outputs": [
    {
     "name": "stdout",
     "output_type": "stream",
     "text": [
      "h_nu_2 = (0.016 +- 0.002) eV\n"
     ]
    }
   ],
   "source": [
    "h_nu_10, h_nu_15, h_nu_border = data_I[\"h_nu\"]\n",
    "sigma_h_nu_10, sigma_h_nu_15, sigma_h_nu_border = data_I[\"sigma_h_nu\"]\n",
    "\n",
    "h_nu_2 = (h_nu_15 - h_nu_10) / 5\n",
    "sigma_h_nu_2 = 0.2 * np.sqrt(sigma_h_nu_15 ** 2 + sigma_h_nu_10 ** 2)\n",
    "\n",
    "print(f\"h_nu_2 = ({h_nu_2:.3f} +- {sigma_h_nu_2:.3f}) eV\")"
   ]
  },
  {
   "cell_type": "markdown",
   "id": "0ed3ea71",
   "metadata": {},
   "source": [
    "# Пункт 7"
   ]
  },
  {
   "cell_type": "markdown",
   "id": "c9efff16",
   "metadata": {},
   "source": [
    "### Пункт а"
   ]
  },
  {
   "cell_type": "markdown",
   "id": "2e4ddbb3",
   "metadata": {},
   "source": [
    "$$ h \\nu_{0, n_2} = \\left(E_2 - E_1\\right) + h \\nu_2 \\left( n_2 + \\cfrac{1}{2} \\right) - \\cfrac{1}{2} h \\nu_1 $$\n",
    "\n",
    "\n",
    "Тогда\n",
    "$$ h \\nu_\\text{эл} = h \\nu_{1,0} - \\cfrac{1}{2}h \\nu_2 + \\cfrac{3}{2} h \\nu_1 $$"
   ]
  },
  {
   "cell_type": "markdown",
   "id": "37277d4a",
   "metadata": {},
   "source": [
    "Погрешность:\n",
    "\n",
    "$$ \\sigma_{h \\nu} = \\sqrt{ \\sigma_{h \\nu_{1,0}}^2 + \\cfrac{1}{4} \\sigma_{h \\nu_2}^2 + \\cfrac{9}{4} \\sigma_{h \\nu_1}^2 } $$"
   ]
  },
  {
   "cell_type": "code",
   "execution_count": 246,
   "id": "20225e87",
   "metadata": {},
   "outputs": [
    {
     "name": "stdout",
     "output_type": "stream",
     "text": [
      "h nu_el = (2.08 +- 0.01) eV\n"
     ]
    }
   ],
   "source": [
    "h_nu_1 = 0.027          # eV\n",
    "sigma_h_nu_1 = 0.0005   # eV\n",
    "\n",
    "h_nu_el = h_nu_10 - 0.5 * h_nu_2 + 1.5 * h_nu_1\n",
    "sigma_h_nu_el = np.sqrt(sigma_h_nu_10**2 + 0.25 * sigma_h_nu_2**2 + 2.25 * sigma_h_nu_1**2)\n",
    "print(f\"h nu_el = ({h_nu_el:.2f} +- {sigma_h_nu_el:.2f}) eV\")"
   ]
  },
  {
   "cell_type": "markdown",
   "id": "3f4b696b",
   "metadata": {},
   "source": [
    "### Пункт б"
   ]
  },
  {
   "cell_type": "markdown",
   "id": "2c32ad58",
   "metadata": {},
   "source": [
    "$$ D_1 = h \\nu_\\text{гр} - E_A$$\n",
    "\n",
    "$$ \\sigma_{D_1} = \\sqrt{\\sigma_{h \\nu_\\text{гр}}^2 + \\sigma_{E_A}^2} $$"
   ]
  },
  {
   "cell_type": "code",
   "execution_count": 245,
   "id": "41fe6944",
   "metadata": {},
   "outputs": [
    {
     "name": "stdout",
     "output_type": "stream",
     "text": [
      "D_1 = (1.09 +- 0.01) eV\n"
     ]
    }
   ],
   "source": [
    "E_A = 0.94          # eV\n",
    "sigma_E_A = 0.005   # eV\n",
    "\n",
    "D_1 = h_nu_border - E_A\n",
    "sigma_D_1 = np.sqrt(sigma_h_nu_border**2 + sigma_E_A**2)\n",
    "print(f\"D_1 = ({D_1:.2f} +- {sigma_D_1:.2f}) eV\")"
   ]
  },
  {
   "cell_type": "markdown",
   "id": "31af14e7",
   "metadata": {},
   "source": [
    "### Пункт в"
   ]
  },
  {
   "cell_type": "markdown",
   "id": "b26c9b35",
   "metadata": {},
   "source": [
    "$$ D_2 = h \\nu_\\text{гр} - h \\nu_\\text{эл} $$\n",
    "\n",
    "$$ \\sigma_{D_2} = \\sqrt{\\sigma_{h \\nu_\\text{гр}}^2 + \\sigma_{h \\nu_\\text{эл}}^2} $$"
   ]
  },
  {
   "cell_type": "code",
   "execution_count": 247,
   "id": "aaa457a5",
   "metadata": {},
   "outputs": [
    {
     "name": "stdout",
     "output_type": "stream",
     "text": [
      "D_2 = (-0.05 +- 0.01) eV\n"
     ]
    }
   ],
   "source": [
    "D_2 = h_nu_border - h_nu_el\n",
    "sigma_D_2 = np.sqrt(sigma_h_nu_border**2 + sigma_h_nu_el**2)\n",
    "print(f\"D_2 = ({D_2:.2f} +- {sigma_D_2:.2f}) eV\")"
   ]
  }
 ],
 "metadata": {
  "kernelspec": {
   "display_name": ".venv",
   "language": "python",
   "name": "python3"
  },
  "language_info": {
   "codemirror_mode": {
    "name": "ipython",
    "version": 3
   },
   "file_extension": ".py",
   "mimetype": "text/x-python",
   "name": "python",
   "nbconvert_exporter": "python",
   "pygments_lexer": "ipython3",
   "version": "3.13.7"
  }
 },
 "nbformat": 4,
 "nbformat_minor": 5
}
