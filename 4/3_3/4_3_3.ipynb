{
 "cells": [
  {
   "cell_type": "code",
   "execution_count": 1,
   "metadata": {},
   "outputs": [],
   "source": [
    "import numpy as np\n",
    "import pandas as pd\n",
    "import sympy as sy"
   ]
  },
  {
   "cell_type": "code",
   "execution_count": 2,
   "metadata": {},
   "outputs": [],
   "source": [
    "sy.init_printing()"
   ]
  },
  {
   "cell_type": "code",
   "execution_count": 3,
   "metadata": {},
   "outputs": [],
   "source": [
    "L = sy.Symbol('L')\n",
    "lmbda = sy.Symbol(r'\\lambda')\n",
    "f1 = sy.Symbol(r'F_1')\n",
    "f2 = sy.Symbol(r'F_2')\n",
    "\n",
    "sigma_L = sy.Symbol(r'\\sigma_L')\n",
    "sigma_lmbda = sy.Symbol(r'\\sigma_\\lambda')\n",
    "sigma_f1 = sy.Symbol(r'\\sigma_F_1')\n",
    "sigma_f2 = sy.Symbol(r'\\sigma_F_2')\n",
    "\n",
    "sigmas = {\n",
    "    L: sigma_L,\n",
    "    lmbda: sigma_lmbda,\n",
    "    f1: sigma_f1,\n",
    "    f2: sigma_f2\n",
    "}"
   ]
  },
  {
   "cell_type": "code",
   "execution_count": 4,
   "metadata": {},
   "outputs": [],
   "source": [
    "values = {\n",
    "    L: np.float64('1.24'),\n",
    "    lmbda: np.float64('0.000000532'),\n",
    "    f1: np.float64('0.025'),\n",
    "    f2: np.float64('0.110'),\n",
    "    sigma_L: np.float64('0.005'),\n",
    "    sigma_lmbda: np.float64('0.0000000005'),\n",
    "    sigma_f1: np.float64('0.0005'),\n",
    "    sigma_f2: np.float64('0.0005'),\n",
    "}"
   ]
  },
  {
   "cell_type": "code",
   "execution_count": 5,
   "metadata": {},
   "outputs": [],
   "source": [
    "m = sy.Symbol('m')\n",
    "l = sy.Symbol('l')\n",
    "\n",
    "sigma_l = sy.Symbol(r'\\sigma_l')\n",
    "\n",
    "values[sigma_l] = np.float64('0.0005')\n",
    "sigmas[l] = sigma_l"
   ]
  },
  {
   "cell_type": "code",
   "execution_count": 6,
   "metadata": {},
   "outputs": [
    {
     "data": {
      "image/png": "[encoded data removed]",
      "text/latex": [
       "$\\displaystyle \\frac{L \\lambda m}{l}$"
      ],
      "text/plain": [
       "L⋅\\lambda⋅m\n",
       "───────────\n",
       "     l     "
      ]
     },
     "execution_count": 6,
     "metadata": {},
     "output_type": "execute_result"
    }
   ],
   "source": [
    "d = m * lmbda * L / l\n",
    "d"
   ]
  },
  {
   "cell_type": "code",
   "execution_count": 7,
   "metadata": {},
   "outputs": [],
   "source": [
    "def get_sigma(formula, sigmas):\n",
    "    sigma_res = 0\n",
    "    for symb in formula.free_symbols:\n",
    "        if symb in sigmas.keys():\n",
    "            sigma_res += formula.diff(symb) ** 2 * sigmas[symb]**2\n",
    "    return sy.sqrt(sigma_res)"
   ]
  },
  {
   "cell_type": "code",
   "execution_count": 8,
   "metadata": {},
   "outputs": [
    {
     "data": {
      "image/png": "[encoded data removed]",
      "text/latex": [
       "$\\displaystyle \\sqrt{\\frac{L^{2} \\lambda^{2} \\sigma_{l}^{2} m^{2}}{l^{4}} + \\frac{L^{2} \\sigma_{\\lambda}^{2} m^{2}}{l^{2}} + \\frac{\\lambda^{2} \\sigma_{L}^{2} m^{2}}{l^{2}}}$"
      ],
      "text/plain": [
       "      _________________________________________________________________________\n",
       "     ╱  2        2        2  2    2               2  2          2         2  2 \n",
       "    ╱  L ⋅\\lambda ⋅\\sigmaₗ ⋅m    L ⋅\\sigma_\\lambda ⋅m    \\lambda ⋅\\sigma_L ⋅m  \n",
       "   ╱   ─────────────────────── + ───────────────────── + ───────────────────── \n",
       "  ╱               4                        2                       2           \n",
       "╲╱               l                        l                       l            "
      ]
     },
     "execution_count": 8,
     "metadata": {},
     "output_type": "execute_result"
    }
   ],
   "source": [
    "sigma_d = get_sigma(d, sigmas)\n",
    "sigma_d"
   ]
  },
  {
   "cell_type": "code",
   "execution_count": 9,
   "metadata": {},
   "outputs": [],
   "source": [
    "def sub_to_df(df: pd.DataFrame, column, formula, constant_vals: dict, keys_of_symbols: dict, dtype=np.float64):\n",
    "    for i in range(len(df[column])):\n",
    "        vals = constant_vals\n",
    "        for symb in keys_of_symbols.keys():\n",
    "            vals[symb] = df.loc[i, keys_of_symbols[symb]]\n",
    "        df.loc[i, column] = dtype(formula.subs(vals))"
   ]
  },
  {
   "cell_type": "markdown",
   "metadata": {},
   "source": [
    "Пункт 1"
   ]
  },
  {
   "cell_type": "code",
   "execution_count": 10,
   "metadata": {},
   "outputs": [
    {
     "data": {
      "text/html": [
       "<div>\n",
       "<style scoped>\n",
       "    .dataframe tbody tr th:only-of-type {\n",
       "        vertical-align: middle;\n",
       "    }\n",
       "\n",
       "    .dataframe tbody tr th {\n",
       "        vertical-align: top;\n",
       "    }\n",
       "\n",
       "    .dataframe thead th {\n",
       "        text-align: right;\n",
       "    }\n",
       "</style>\n",
       "<table border=\"1\" class=\"dataframe\">\n",
       "  <thead>\n",
       "    <tr style=\"text-align: right;\">\n",
       "      <th></th>\n",
       "      <th>grid</th>\n",
       "      <th>l</th>\n",
       "      <th>m</th>\n",
       "      <th>d</th>\n",
       "      <th>sigma_d</th>\n",
       "    </tr>\n",
       "  </thead>\n",
       "  <tbody>\n",
       "    <tr>\n",
       "      <th>0</th>\n",
       "      <td>1.0</td>\n",
       "      <td>0.266</td>\n",
       "      <td>4.0</td>\n",
       "      <td>NaN</td>\n",
       "      <td>NaN</td>\n",
       "    </tr>\n",
       "    <tr>\n",
       "      <th>1</th>\n",
       "      <td>2.0</td>\n",
       "      <td>0.265</td>\n",
       "      <td>10.0</td>\n",
       "      <td>NaN</td>\n",
       "      <td>NaN</td>\n",
       "    </tr>\n",
       "    <tr>\n",
       "      <th>2</th>\n",
       "      <td>3.0</td>\n",
       "      <td>0.242</td>\n",
       "      <td>18.0</td>\n",
       "      <td>NaN</td>\n",
       "      <td>NaN</td>\n",
       "    </tr>\n",
       "  </tbody>\n",
       "</table>\n",
       "</div>"
      ],
      "text/plain": [
       "   grid      l     m   d  sigma_d\n",
       "0   1.0  0.266   4.0 NaN      NaN\n",
       "1   2.0  0.265  10.0 NaN      NaN\n",
       "2   3.0  0.242  18.0 NaN      NaN"
      ]
     },
     "execution_count": 10,
     "metadata": {},
     "output_type": "execute_result"
    }
   ],
   "source": [
    "d_1 = {\n",
    "    \"grid\": np.array([1, 2, 3], dtype=np.float64),\n",
    "    \"l\": np.array([0.266, 0.265, 0.242], dtype=np.float64),\n",
    "    \"m\": np.array([4, 10, 18], dtype=np.float64),\n",
    "    \"d\": [None, None, None],\n",
    "    \"sigma_d\": [None, None, None]\n",
    "}\n",
    "\n",
    "data_1 = pd.DataFrame(data=d_1, dtype=np.float64)\n",
    "data_1"
   ]
  },
  {
   "cell_type": "code",
   "execution_count": 20,
   "metadata": {},
   "outputs": [
    {
     "data": {
      "text/html": [
       "<div>\n",
       "<style scoped>\n",
       "    .dataframe tbody tr th:only-of-type {\n",
       "        vertical-align: middle;\n",
       "    }\n",
       "\n",
       "    .dataframe tbody tr th {\n",
       "        vertical-align: top;\n",
       "    }\n",
       "\n",
       "    .dataframe thead th {\n",
       "        text-align: right;\n",
       "    }\n",
       "</style>\n",
       "<table border=\"1\" class=\"dataframe\">\n",
       "  <thead>\n",
       "    <tr style=\"text-align: right;\">\n",
       "      <th></th>\n",
       "      <th>grid</th>\n",
       "      <th>l</th>\n",
       "      <th>m</th>\n",
       "      <th>d</th>\n",
       "      <th>sigma_d</th>\n",
       "    </tr>\n",
       "  </thead>\n",
       "  <tbody>\n",
       "    <tr>\n",
       "      <th>0</th>\n",
       "      <td>1.0</td>\n",
       "      <td>0.266</td>\n",
       "      <td>4.0</td>\n",
       "      <td>9.920000</td>\n",
       "      <td>0.045107</td>\n",
       "    </tr>\n",
       "    <tr>\n",
       "      <th>1</th>\n",
       "      <td>2.0</td>\n",
       "      <td>0.265</td>\n",
       "      <td>10.0</td>\n",
       "      <td>24.893585</td>\n",
       "      <td>0.113266</td>\n",
       "    </tr>\n",
       "    <tr>\n",
       "      <th>2</th>\n",
       "      <td>3.0</td>\n",
       "      <td>0.242</td>\n",
       "      <td>18.0</td>\n",
       "      <td>49.067107</td>\n",
       "      <td>0.227045</td>\n",
       "    </tr>\n",
       "  </tbody>\n",
       "</table>\n",
       "</div>"
      ],
      "text/plain": [
       "   grid      l     m          d   sigma_d\n",
       "0   1.0  0.266   4.0   9.920000  0.045107\n",
       "1   2.0  0.265  10.0  24.893585  0.113266\n",
       "2   3.0  0.242  18.0  49.067107  0.227045"
      ]
     },
     "execution_count": 20,
     "metadata": {},
     "output_type": "execute_result"
    }
   ],
   "source": [
    "sub_to_df(data_1, \"d\", 10**6 * d, values, {m: \"m\", l: \"l\"})\n",
    "sub_to_df(data_1, \"sigma_d\", 10**6 * sigma_d, values, {m: \"m\", l: \"l\"})\n",
    "data_1"
   ]
  },
  {
   "cell_type": "markdown",
   "metadata": {},
   "source": [
    "Пункт 2"
   ]
  },
  {
   "cell_type": "code",
   "execution_count": 25,
   "metadata": {},
   "outputs": [
    {
     "data": {
      "image/png": "[encoded data removed]",
      "text/latex": [
       "$\\displaystyle 0.11$"
      ],
      "text/plain": [
       "np.float64(0.11)"
      ]
     },
     "execution_count": 25,
     "metadata": {},
     "output_type": "execute_result"
    }
   ],
   "source": [
    "a_1 = sy.Symbol('a_1')\n",
    "a_2 = sy.Symbol('a_2')\n",
    "b_1 = sy.Symbol('b_1')\n",
    "b_2 = sy.Symbol('b_2')\n",
    "\n",
    "values[a_1] = np.float64('0.115')\n",
    "values[a_2] = values[f2]\n",
    "values[b_1] = np.float128('0.155') - values[a_2]\n",
    "values[b_2] = values[L] - np.float128('0.155') - values[a_1]\n",
    "values[a_2]"
   ]
  },
  {
   "cell_type": "code",
   "execution_count": 13,
   "metadata": {},
   "outputs": [],
   "source": [
    "sigma_a_1 = sy.Symbol(r'\\sigma_a_1')\n",
    "sigma_a_2 = sy.Symbol(r'\\sigma_a_2')\n",
    "sigma_b_1 = sy.Symbol(r'\\sigma_b_1')\n",
    "sigma_b_2 = sy.Symbol(r'\\sigma_b_2')\n",
    "\n",
    "values[sigma_a_1] = np.float64('0.0005')\n",
    "values[sigma_a_2] = np.float64('0.0005')\n",
    "values[sigma_b_1] = 2 * values[sigma_a_1]\n",
    "values[sigma_b_2] = 3 * values[sigma_a_1]\n",
    "\n",
    "sigmas[a_1] = sigma_a_1\n",
    "sigmas[a_2] = sigma_a_2\n",
    "sigmas[b_1] = sigma_b_1\n",
    "sigmas[b_2] = sigma_b_2"
   ]
  },
  {
   "cell_type": "code",
   "execution_count": 14,
   "metadata": {},
   "outputs": [
    {
     "data": {
      "image/png": "[encoded data removed]",
      "text/latex": [
       "$\\displaystyle \\frac{b_{1} b_{2}}{a_{1} a_{2}}$"
      ],
      "text/plain": [
       "b₁⋅b₂\n",
       "─────\n",
       "a₁⋅a₂"
      ]
     },
     "execution_count": 14,
     "metadata": {},
     "output_type": "execute_result"
    }
   ],
   "source": [
    "Gamma = b_1 * b_2 / (a_1 * a_2)\n",
    "\n",
    "sigma_Gamma = get_sigma(Gamma, sigmas)\n",
    "Gamma"
   ]
  },
  {
   "cell_type": "code",
   "execution_count": 15,
   "metadata": {},
   "outputs": [
    {
     "data": {
      "image/png": "[encoded data removed]",
      "text/latex": [
       "$\\displaystyle \\sqrt{\\frac{\\sigma_{a 1}^{2} b_{1}^{2} b_{2}^{2}}{a_{1}^{4} a_{2}^{2}} + \\frac{\\sigma_{a 2}^{2} b_{1}^{2} b_{2}^{2}}{a_{1}^{2} a_{2}^{4}} + \\frac{\\sigma_{b 1}^{2} b_{2}^{2}}{a_{1}^{2} a_{2}^{2}} + \\frac{\\sigma_{b 2}^{2} b_{1}^{2}}{a_{1}^{2} a_{2}^{2}}}$"
      ],
      "text/plain": [
       "      ________________________________________________________________________ ↪\n",
       "     ╱          2   2   2            2   2   2             2   2             2 ↪\n",
       "    ╱  \\sigmaₐ ₁ ⋅b₁ ⋅b₂    \\sigmaₐ ₂ ⋅b₁ ⋅b₂    \\sigma_b_1 ⋅b₂    \\sigma_b_2  ↪\n",
       "   ╱   ────────────────── + ────────────────── + ─────────────── + ─────────── ↪\n",
       "  ╱           4   2                2   4               2   2             2   2 ↪\n",
       "╲╱          a₁ ⋅a₂               a₁ ⋅a₂              a₁ ⋅a₂            a₁ ⋅a₂  ↪\n",
       "\n",
       "↪ _____\n",
       "↪    2 \n",
       "↪ ⋅b₁  \n",
       "↪ ──── \n",
       "↪      \n",
       "↪      "
      ]
     },
     "execution_count": 15,
     "metadata": {},
     "output_type": "execute_result"
    }
   ],
   "source": [
    "sigma_Gamma"
   ]
  },
  {
   "cell_type": "code",
   "execution_count": 16,
   "metadata": {},
   "outputs": [
    {
     "name": "stdout",
     "output_type": "stream",
     "text": [
      "Г = (3.45 +- 0.08)\n"
     ]
    }
   ],
   "source": [
    "print(f\"Г = ({Gamma.subs(values):.2f} +- {sigma_Gamma.subs(values):.2f})\")"
   ]
  },
  {
   "cell_type": "code",
   "execution_count": 17,
   "metadata": {},
   "outputs": [
    {
     "data": {
      "text/html": [
       "<div>\n",
       "<style scoped>\n",
       "    .dataframe tbody tr th:only-of-type {\n",
       "        vertical-align: middle;\n",
       "    }\n",
       "\n",
       "    .dataframe tbody tr th {\n",
       "        vertical-align: top;\n",
       "    }\n",
       "\n",
       "    .dataframe thead th {\n",
       "        text-align: right;\n",
       "    }\n",
       "</style>\n",
       "<table border=\"1\" class=\"dataframe\">\n",
       "  <thead>\n",
       "    <tr style=\"text-align: right;\">\n",
       "      <th></th>\n",
       "      <th>grid</th>\n",
       "      <th>l</th>\n",
       "      <th>m</th>\n",
       "      <th>d</th>\n",
       "      <th>sigma_d</th>\n",
       "    </tr>\n",
       "  </thead>\n",
       "  <tbody>\n",
       "    <tr>\n",
       "      <th>0</th>\n",
       "      <td>1.0</td>\n",
       "      <td>0.292</td>\n",
       "      <td>1.0</td>\n",
       "      <td>NaN</td>\n",
       "      <td>NaN</td>\n",
       "    </tr>\n",
       "    <tr>\n",
       "      <th>1</th>\n",
       "      <td>2.0</td>\n",
       "      <td>0.439</td>\n",
       "      <td>4.0</td>\n",
       "      <td>NaN</td>\n",
       "      <td>NaN</td>\n",
       "    </tr>\n",
       "    <tr>\n",
       "      <th>2</th>\n",
       "      <td>3.0</td>\n",
       "      <td>0.440</td>\n",
       "      <td>8.0</td>\n",
       "      <td>NaN</td>\n",
       "      <td>NaN</td>\n",
       "    </tr>\n",
       "  </tbody>\n",
       "</table>\n",
       "</div>"
      ],
      "text/plain": [
       "   grid      l    m   d  sigma_d\n",
       "0   1.0  0.292  1.0 NaN      NaN\n",
       "1   2.0  0.439  4.0 NaN      NaN\n",
       "2   3.0  0.440  8.0 NaN      NaN"
      ]
     },
     "execution_count": 17,
     "metadata": {},
     "output_type": "execute_result"
    }
   ],
   "source": [
    "d_2 = {\n",
    "    \"grid\": np.array([1, 2, 3], dtype=np.float64),\n",
    "    \"l\": np.array([0.292, 0.439, 0.440], dtype=np.float64),\n",
    "    \"m\": np.array([1, 4, 8], dtype=np.float64),\n",
    "    \"d\": [None, None, None],\n",
    "    \"sigma_d\": [None, None, None]\n",
    "}\n",
    "data_2 = pd.DataFrame(data=d_2, dtype=np.float64)\n",
    "data_2"
   ]
  },
  {
   "cell_type": "code",
   "execution_count": 26,
   "metadata": {},
   "outputs": [
    {
     "data": {
      "text/html": [
       "<div>\n",
       "<style scoped>\n",
       "    .dataframe tbody tr th:only-of-type {\n",
       "        vertical-align: middle;\n",
       "    }\n",
       "\n",
       "    .dataframe tbody tr th {\n",
       "        vertical-align: top;\n",
       "    }\n",
       "\n",
       "    .dataframe thead th {\n",
       "        text-align: right;\n",
       "    }\n",
       "</style>\n",
       "<table border=\"1\" class=\"dataframe\">\n",
       "  <thead>\n",
       "    <tr style=\"text-align: right;\">\n",
       "      <th></th>\n",
       "      <th>grid</th>\n",
       "      <th>l</th>\n",
       "      <th>m</th>\n",
       "      <th>d</th>\n",
       "      <th>sigma_d</th>\n",
       "    </tr>\n",
       "  </thead>\n",
       "  <tbody>\n",
       "    <tr>\n",
       "      <th>0</th>\n",
       "      <td>1.0</td>\n",
       "      <td>0.292</td>\n",
       "      <td>1.0</td>\n",
       "      <td>7.795504</td>\n",
       "      <td>0.053264</td>\n",
       "    </tr>\n",
       "    <tr>\n",
       "      <th>1</th>\n",
       "      <td>2.0</td>\n",
       "      <td>0.439</td>\n",
       "      <td>4.0</td>\n",
       "      <td>20.740657</td>\n",
       "      <td>0.141505</td>\n",
       "    </tr>\n",
       "    <tr>\n",
       "      <th>2</th>\n",
       "      <td>3.0</td>\n",
       "      <td>0.440</td>\n",
       "      <td>8.0</td>\n",
       "      <td>41.387038</td>\n",
       "      <td>0.282365</td>\n",
       "    </tr>\n",
       "  </tbody>\n",
       "</table>\n",
       "</div>"
      ],
      "text/plain": [
       "   grid      l    m          d   sigma_d\n",
       "0   1.0  0.292  1.0   7.795504  0.053264\n",
       "1   2.0  0.439  4.0  20.740657  0.141505\n",
       "2   3.0  0.440  8.0  41.387038  0.282365"
      ]
     },
     "execution_count": 26,
     "metadata": {},
     "output_type": "execute_result"
    }
   ],
   "source": [
    "sub_to_df(data_2, \"d\", 10**6 * d * Gamma, values, {m: \"m\", l: \"l\"})\n",
    "sub_to_df(data_2, \"sigma_d\", 10**6 * d*sy.sqrt((sigma_d / d)**2 + (sigma_Gamma/Gamma)**2), values, {m: \"m\", l: \"l\"})\n",
    "data_2"
   ]
  },
  {
   "cell_type": "code",
   "execution_count": null,
   "metadata": {},
   "outputs": [],
   "source": []
  }
 ],
 "metadata": {
  "kernelspec": {
   "display_name": "Python 3 (ipykernel)",
   "language": "python",
   "name": "python3"
  },
  "language_info": {
   "codemirror_mode": {
    "name": "ipython",
    "version": 3
   },
   "file_extension": ".py",
   "mimetype": "text/x-python",
   "name": "python",
   "nbconvert_exporter": "python",
   "pygments_lexer": "ipython3",
   "version": "3.13.3"
  }
 },
 "nbformat": 4,
 "nbformat_minor": 2
}
